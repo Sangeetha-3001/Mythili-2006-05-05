{
  "nbformat": 4,
  "nbformat_minor": 0,
  "metadata": {
    "colab": {
      "provenance": [],
      "authorship_tag": "ABX9TyNCUZv6oeFvr0YMYhyje/2G",
      "include_colab_link": true
    },
    "kernelspec": {
      "name": "python3",
      "display_name": "Python 3"
    },
    "language_info": {
      "name": "python"
    }
  },
  "cells": [
    {
      "cell_type": "markdown",
      "metadata": {
        "id": "view-in-github",
        "colab_type": "text"
      },
      "source": [
        "<a href=\"https://colab.research.google.com/github/Sangeetha-3001/Mythili-2006-05-05/blob/main/Supply_chain_management.ipynb\" target=\"_parent\"><img src=\"https://colab.research.google.com/assets/colab-badge.svg\" alt=\"Open In Colab\"/></a>"
      ]
    },
    {
      "cell_type": "code",
      "execution_count": null,
      "metadata": {
        "id": "FCxRR8zrmb-j"
      },
      "outputs": [],
      "source": [
        "\n",
        "class Product:\n",
        "    def __init__(self, name, quantity):\n",
        "        self.name = name\n",
        "        self.quantity = quantity\n",
        "\n",
        "class Supplier:\n",
        "    def __init__(self, name):\n",
        "        self.name = name\n",
        "\n",
        "    def supply(self, product, quantity):\n",
        "        print(f\"{self.name} is supplying {quantity} units of {product.name}\")\n",
        "        return Product(product.name, quantity)\n",
        "\n",
        "class Manufacturer:\n",
        "    def __init__(self, name):\n",
        "        self.name = name\n",
        "        self.inventory = {}\n",
        "\n",
        "    def receive_raw_material(self, product):\n",
        "        if product.name in self.inventory:\n",
        "            self.inventory[product.name] += product.quantity\n",
        "        else:\n",
        "            self.inventory[product.name] = product.quantity\n",
        "        print(f\"{self.name} received {product.quantity} units of {product.name}\")\n",
        "\n",
        "    def produce(self, product_name, quantity):\n",
        "        if product_name in self.inventory and self.inventory[product_name] >= quantity:\n",
        "            self.inventory[product_name] -= quantity\n",
        "            print(f\"{self.name} produced {quantity} units of {product_name}\")\n",
        "            return Product(product_name, quantity)\n",
        "        else:\n",
        "            print(\"Not enough raw material to produce.\")\n",
        "            return None\n",
        "\n",
        "class Retailer:\n",
        "    def __init__(self, name):\n",
        "        self.name = name\n",
        "        self.stock = {}\n",
        "\n",
        "    def receive_products(self, product):\n",
        "        if product.name in self.stock:\n",
        "            self.stock[product.name] += product.quantity\n",
        "        else:\n",
        "            self.stock[product.name] = product.quantity\n",
        "        print(f\"{self.name} received {product.quantity} units of {product.name}\")\n",
        "\n",
        "    def sell(self, product_name, quantity):\n",
        "        if product_name in self.stock and self.stock[product_name] >= quantity:\n",
        "            self.stock[product_name] -= quantity\n",
        "            print(f\"{self.name} sold {quantity} units of {product_name}\")\n",
        "        else:\n",
        "            print(\"Not enough stock to sell.\")\n",
        "\n",
        "# Example Usage\n",
        "supplier = Supplier(\"ABC Suppliers\")\n",
        "manufacturer = Manufacturer(\"XYZ Manufacturing\")\n",
        "retailer = Retailer(\"Retail Hub\")\n",
        "\n",
        "raw_material = supplier.supply(Product(\"Steel\", 100), 100)\n",
        "manufacturer.receive_raw_material(raw_material)\n",
        "\n",
        "finished_goods = manufacturer.produce(\"Steel\", 60)\n",
        "if finished_goods:\n",
        "    retailer.receive_products(finished_goods)\n",
        "    retailer.sell(\"Steel\", 30)"
      ]
    }
  ]
}